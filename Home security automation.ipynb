{
 "cells": [
  {
   "cell_type": "code",
   "execution_count": 2,
   "id": "82b6b4da",
   "metadata": {},
   "outputs": [
    {
     "name": "stdout",
     "output_type": "stream",
     "text": [
      "Requirement already satisfied: opencv-python in c:\\users\\hp\\anaconda3\\lib\\site-packages (4.8.1.78)\n",
      "Requirement already satisfied: numpy>=1.17.3 in c:\\users\\hp\\anaconda3\\lib\\site-packages (from opencv-python) (1.26.2)\n",
      "Note: you may need to restart the kernel to use updated packages.\n"
     ]
    }
   ],
   "source": [
    "pip install --upgrade opencv-python"
   ]
  },
  {
   "cell_type": "code",
   "execution_count": 3,
   "id": "20b6a27e",
   "metadata": {},
   "outputs": [
    {
     "name": "stdout",
     "output_type": "stream",
     "text": [
      "Temperature: 25.5°C\n",
      "Humidity: 50%\n",
      "Smoke Detector: Not Detected\n",
      "Error: Unable to load the image at path: path/to/your/image.jpg\n"
     ]
    }
   ],
   "source": [
    "import cv2\n",
    "import numpy as np\n",
    "\n",
    "# Simulated IoT sensor data\n",
    "temperature_sensor_value = 25.5\n",
    "humidity_sensor_value = 50\n",
    "smoke_detector_value = False\n",
    "\n",
    "# Function to analyze sensor data\n",
    "def analyze_sensor_data():\n",
    "    # Add your logic to analyze sensor data here\n",
    "    # For simplicity, we'll just print the values\n",
    "    print(f\"Temperature: {temperature_sensor_value}°C\")\n",
    "    print(f\"Humidity: {humidity_sensor_value}%\")\n",
    "    print(f\"Smoke Detector: {'Detected' if smoke_detector_value else 'Not Detected'}\")\n",
    "\n",
    "# Function for object detection using OpenCV\n",
    "def object_detection(image_path):\n",
    "    # Load image\n",
    "    image = cv2.imread(image_path)\n",
    "\n",
    "    # Check if the image is loaded successfully\n",
    "    if image is None:\n",
    "        print(f\"Error: Unable to load the image at path: {image_path}\")\n",
    "        return\n",
    "\n",
    "    # Add your object detection logic here\n",
    "    # For simplicity, we'll just print a message\n",
    "    print(\"Object detection logic goes here\")\n",
    "\n",
    "    # Display the image with OpenCV (optional)\n",
    "    cv2.imshow(\"Image\", image)\n",
    "    cv2.waitKey(0)\n",
    "    cv2.destroyAllWindows()\n",
    "\n",
    "# Main function\n",
    "def main():\n",
    "    # Simulate IoT sensor data\n",
    "    analyze_sensor_data()\n",
    "\n",
    "    # Simulate object detection using OpenCV\n",
    "    object_detection(\"path/to/your/image.jpg\")\n",
    "\n",
    "if __name__ == \"__main__\":\n",
    "    main()\n"
   ]
  },
  {
   "cell_type": "code",
   "execution_count": null,
   "id": "c6b1b7ce",
   "metadata": {},
   "outputs": [],
   "source": []
  }
 ],
 "metadata": {
  "kernelspec": {
   "display_name": "Python 3 (ipykernel)",
   "language": "python",
   "name": "python3"
  },
  "language_info": {
   "codemirror_mode": {
    "name": "ipython",
    "version": 3
   },
   "file_extension": ".py",
   "mimetype": "text/x-python",
   "name": "python",
   "nbconvert_exporter": "python",
   "pygments_lexer": "ipython3",
   "version": "3.9.13"
  }
 },
 "nbformat": 4,
 "nbformat_minor": 5
}
